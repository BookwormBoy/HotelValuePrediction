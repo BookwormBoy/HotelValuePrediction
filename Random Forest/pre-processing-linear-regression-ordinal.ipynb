{
 "cells": [
  {
   "cell_type": "code",
   "execution_count": 632,
   "metadata": {
    "_cell_guid": "b1076dfc-b9ad-4769-8c92-a6c4dae69d19",
    "_uuid": "8f2839f25d086af736a60e9eeb907d3b93b6e0e5",
    "execution": {
     "iopub.execute_input": "2025-10-25T06:53:16.929114Z",
     "iopub.status.busy": "2025-10-25T06:53:16.928796Z",
     "iopub.status.idle": "2025-10-25T06:53:16.939809Z",
     "shell.execute_reply": "2025-10-25T06:53:16.938648Z",
     "shell.execute_reply.started": "2025-10-25T06:53:16.929096Z"
    }
   },
   "outputs": [],
   "source": [
    "# This Python 3 environment comes with many helpful analytics libraries installed\n",
    "# It is defined by the kaggle/python Docker image: https://github.com/kaggle/docker-python\n",
    "# For example, here's several helpful packages to load\n",
    "\n",
    "import numpy as np # linear algebra\n",
    "import pandas as pd # data processing, CSV file I/O (e.g. pd.read_csv)\n",
    "\n",
    "# Input data files are available in the read-only \"../input/\" directory\n",
    "# For example, running this (by clicking run or pressing Shift+Enter) will list all files under the input directory\n",
    "\n",
    "# You can write up to 20GB to the current directory (/kaggle/working/) that gets preserved as output when you create a version using \"Save & Run All\" \n",
    "# You can also write temporary files to /kaggle/temp/, but they won't be saved outside of the current session"
   ]
  },
  {
   "cell_type": "code",
   "execution_count": 633,
   "metadata": {
    "execution": {
     "iopub.execute_input": "2025-10-25T06:53:16.949476Z",
     "iopub.status.busy": "2025-10-25T06:53:16.949159Z",
     "iopub.status.idle": "2025-10-25T06:53:17.028485Z",
     "shell.execute_reply": "2025-10-25T06:53:17.026871Z",
     "shell.execute_reply.started": "2025-10-25T06:53:16.949453Z"
    }
   },
   "outputs": [
    {
     "name": "stdout",
     "output_type": "stream",
     "text": [
      "<class 'pandas.core.frame.DataFrame'>\n",
      "RangeIndex: 1200 entries, 0 to 1199\n",
      "Data columns (total 81 columns):\n",
      " #   Column                   Non-Null Count  Dtype  \n",
      "---  ------                   --------------  -----  \n",
      " 0   Id                       1200 non-null   int64  \n",
      " 1   PropertyClass            1200 non-null   int64  \n",
      " 2   ZoningCategory           1200 non-null   object \n",
      " 3   RoadAccessLength         977 non-null    float64\n",
      " 4   LandArea                 1200 non-null   int64  \n",
      " 5   RoadType                 1200 non-null   object \n",
      " 6   ServiceLaneType          75 non-null     object \n",
      " 7   PlotShape                1200 non-null   object \n",
      " 8   LandElevation            1200 non-null   object \n",
      " 9   UtilityAccess            1200 non-null   object \n",
      " 10  PlotConfiguration        1200 non-null   object \n",
      " 11  LandSlope                1200 non-null   object \n",
      " 12  District                 1200 non-null   object \n",
      " 13  NearbyTransport1         1200 non-null   object \n",
      " 14  NearbyTransport2         1200 non-null   object \n",
      " 15  PropertyType             1200 non-null   object \n",
      " 16  HotelStyle               1200 non-null   object \n",
      " 17  OverallQuality           1200 non-null   int64  \n",
      " 18  OverallCondition         1200 non-null   int64  \n",
      " 19  ConstructionYear         1200 non-null   int64  \n",
      " 20  RenovationYear           1200 non-null   int64  \n",
      " 21  RoofDesign               1200 non-null   object \n",
      " 22  RoofMaterial             1200 non-null   object \n",
      " 23  ExteriorPrimary          1200 non-null   object \n",
      " 24  ExteriorSecondary        1200 non-null   object \n",
      " 25  FacadeType               498 non-null    object \n",
      " 26  FacadeArea               1193 non-null   float64\n",
      " 27  ExteriorQuality          1200 non-null   object \n",
      " 28  ExteriorCondition        1200 non-null   object \n",
      " 29  FoundationType           1200 non-null   object \n",
      " 30  BasementHeight           1171 non-null   object \n",
      " 31  BasementCondition        1171 non-null   object \n",
      " 32  BasementExposure         1170 non-null   object \n",
      " 33  BasementFacilityType1    1171 non-null   object \n",
      " 34  BasementFacilitySF1      1200 non-null   int64  \n",
      " 35  BasementFacilityType2    1171 non-null   object \n",
      " 36  BasementFacilitySF2      1200 non-null   int64  \n",
      " 37  BasementUnfinishedSF     1200 non-null   int64  \n",
      " 38  BasementTotalSF          1200 non-null   int64  \n",
      " 39  HeatingType              1200 non-null   object \n",
      " 40  HeatingQuality           1200 non-null   object \n",
      " 41  CentralAC                1200 non-null   object \n",
      " 42  ElectricalSystem         1199 non-null   object \n",
      " 43  GroundFloorArea          1200 non-null   int64  \n",
      " 44  UpperFloorArea           1200 non-null   int64  \n",
      " 45  LowQualityArea           1200 non-null   int64  \n",
      " 46  UsableArea               1200 non-null   int64  \n",
      " 47  BasementFullBaths        1200 non-null   int64  \n",
      " 48  BasementHalfBaths        1200 non-null   int64  \n",
      " 49  FullBaths                1200 non-null   int64  \n",
      " 50  HalfBaths                1200 non-null   int64  \n",
      " 51  GuestRooms               1200 non-null   int64  \n",
      " 52  Kitchens                 1200 non-null   int64  \n",
      " 53  KitchenQuality           1200 non-null   object \n",
      " 54  TotalRooms               1200 non-null   int64  \n",
      " 55  PropertyFunctionality    1200 non-null   object \n",
      " 56  Lounges                  1200 non-null   int64  \n",
      " 57  LoungeQuality            640 non-null    object \n",
      " 58  ParkingType              1135 non-null   object \n",
      " 59  ParkingConstructionYear  1135 non-null   float64\n",
      " 60  ParkingFinish            1135 non-null   object \n",
      " 61  ParkingCapacity          1200 non-null   int64  \n",
      " 62  ParkingArea              1200 non-null   int64  \n",
      " 63  ParkingQuality           1135 non-null   object \n",
      " 64  ParkingCondition         1135 non-null   object \n",
      " 65  DrivewayType             1200 non-null   object \n",
      " 66  TerraceArea              1200 non-null   int64  \n",
      " 67  OpenVerandaArea          1200 non-null   int64  \n",
      " 68  EnclosedVerandaArea      1200 non-null   int64  \n",
      " 69  SeasonalPorchArea        1200 non-null   int64  \n",
      " 70  ScreenPorchArea          1200 non-null   int64  \n",
      " 71  SwimmingPoolArea         1200 non-null   int64  \n",
      " 72  PoolQuality              6 non-null      object \n",
      " 73  BoundaryFence            237 non-null    object \n",
      " 74  ExtraFacility            46 non-null     object \n",
      " 75  ExtraFacilityValue       1200 non-null   int64  \n",
      " 76  MonthSold                1200 non-null   int64  \n",
      " 77  YearSold                 1200 non-null   int64  \n",
      " 78  DealType                 1200 non-null   object \n",
      " 79  DealCondition            1200 non-null   object \n",
      " 80  HotelValue               1200 non-null   float64\n",
      "dtypes: float64(4), int64(34), object(43)\n",
      "memory usage: 759.5+ KB\n"
     ]
    }
   ],
   "source": [
    "# Load and examine basic structure\n",
    "train_df = pd.read_csv(\"./train.csv\")\n",
    "test_df = pd.read_csv(\"./test.csv\")\n",
    "train_df.info()"
   ]
  },
  {
   "cell_type": "code",
   "execution_count": 634,
   "metadata": {
    "execution": {
     "iopub.execute_input": "2025-10-25T06:53:17.030843Z",
     "iopub.status.busy": "2025-10-25T06:53:17.030428Z",
     "iopub.status.idle": "2025-10-25T06:53:17.158932Z",
     "shell.execute_reply": "2025-10-25T06:53:17.157942Z",
     "shell.execute_reply.started": "2025-10-25T06:53:17.030809Z"
    }
   },
   "outputs": [
    {
     "name": "stdout",
     "output_type": "stream",
     "text": [
      "<class 'pandas.core.frame.DataFrame'>\n",
      "RangeIndex: 1200 entries, 0 to 1199\n",
      "Data columns (total 81 columns):\n",
      " #   Column                   Non-Null Count  Dtype  \n",
      "---  ------                   --------------  -----  \n",
      " 0   Id                       1200 non-null   int64  \n",
      " 1   PropertyClass            1200 non-null   int64  \n",
      " 2   ZoningCategory           1200 non-null   object \n",
      " 3   RoadAccessLength         977 non-null    float64\n",
      " 4   LandArea                 1200 non-null   int64  \n",
      " 5   RoadType                 1200 non-null   object \n",
      " 6   ServiceLaneType          75 non-null     object \n",
      " 7   PlotShape                1200 non-null   object \n",
      " 8   LandElevation            1200 non-null   object \n",
      " 9   UtilityAccess            1200 non-null   object \n",
      " 10  PlotConfiguration        1200 non-null   object \n",
      " 11  LandSlope                1200 non-null   object \n",
      " 12  District                 1200 non-null   object \n",
      " 13  NearbyTransport1         1200 non-null   object \n",
      " 14  NearbyTransport2         1200 non-null   object \n",
      " 15  PropertyType             1200 non-null   object \n",
      " 16  HotelStyle               1200 non-null   object \n",
      " 17  OverallQuality           1200 non-null   int64  \n",
      " 18  OverallCondition         1200 non-null   int64  \n",
      " 19  ConstructionYear         1200 non-null   int64  \n",
      " 20  RenovationYear           1200 non-null   int64  \n",
      " 21  RoofDesign               1200 non-null   object \n",
      " 22  RoofMaterial             1200 non-null   object \n",
      " 23  ExteriorPrimary          1200 non-null   object \n",
      " 24  ExteriorSecondary        1200 non-null   object \n",
      " 25  FacadeType               498 non-null    object \n",
      " 26  FacadeArea               1193 non-null   float64\n",
      " 27  ExteriorQuality          1200 non-null   object \n",
      " 28  ExteriorCondition        1200 non-null   object \n",
      " 29  FoundationType           1200 non-null   object \n",
      " 30  BasementHeight           1171 non-null   object \n",
      " 31  BasementCondition        1171 non-null   object \n",
      " 32  BasementExposure         1170 non-null   object \n",
      " 33  BasementFacilityType1    1171 non-null   object \n",
      " 34  BasementFacilitySF1      1200 non-null   int64  \n",
      " 35  BasementFacilityType2    1171 non-null   object \n",
      " 36  BasementFacilitySF2      1200 non-null   int64  \n",
      " 37  BasementUnfinishedSF     1200 non-null   int64  \n",
      " 38  BasementTotalSF          1200 non-null   int64  \n",
      " 39  HeatingType              1200 non-null   object \n",
      " 40  HeatingQuality           1200 non-null   object \n",
      " 41  CentralAC                1200 non-null   object \n",
      " 42  ElectricalSystem         1199 non-null   object \n",
      " 43  GroundFloorArea          1200 non-null   int64  \n",
      " 44  UpperFloorArea           1200 non-null   int64  \n",
      " 45  LowQualityArea           1200 non-null   int64  \n",
      " 46  UsableArea               1200 non-null   int64  \n",
      " 47  BasementFullBaths        1200 non-null   int64  \n",
      " 48  BasementHalfBaths        1200 non-null   int64  \n",
      " 49  FullBaths                1200 non-null   int64  \n",
      " 50  HalfBaths                1200 non-null   int64  \n",
      " 51  GuestRooms               1200 non-null   int64  \n",
      " 52  Kitchens                 1200 non-null   int64  \n",
      " 53  KitchenQuality           1200 non-null   object \n",
      " 54  TotalRooms               1200 non-null   int64  \n",
      " 55  PropertyFunctionality    1200 non-null   object \n",
      " 56  Lounges                  1200 non-null   int64  \n",
      " 57  LoungeQuality            640 non-null    object \n",
      " 58  ParkingType              1135 non-null   object \n",
      " 59  ParkingConstructionYear  1135 non-null   float64\n",
      " 60  ParkingFinish            1135 non-null   object \n",
      " 61  ParkingCapacity          1200 non-null   int64  \n",
      " 62  ParkingArea              1200 non-null   int64  \n",
      " 63  ParkingQuality           1135 non-null   object \n",
      " 64  ParkingCondition         1135 non-null   object \n",
      " 65  DrivewayType             1200 non-null   object \n",
      " 66  TerraceArea              1200 non-null   int64  \n",
      " 67  OpenVerandaArea          1200 non-null   int64  \n",
      " 68  EnclosedVerandaArea      1200 non-null   int64  \n",
      " 69  SeasonalPorchArea        1200 non-null   int64  \n",
      " 70  ScreenPorchArea          1200 non-null   int64  \n",
      " 71  SwimmingPoolArea         1200 non-null   int64  \n",
      " 72  PoolQuality              6 non-null      object \n",
      " 73  BoundaryFence            237 non-null    object \n",
      " 74  ExtraFacility            46 non-null     object \n",
      " 75  ExtraFacilityValue       1200 non-null   int64  \n",
      " 76  MonthSold                1200 non-null   int64  \n",
      " 77  YearSold                 1200 non-null   int64  \n",
      " 78  DealType                 1200 non-null   object \n",
      " 79  DealCondition            1200 non-null   object \n",
      " 80  HotelValue               1200 non-null   float64\n",
      "dtypes: float64(4), int64(34), object(43)\n",
      "memory usage: 759.5+ KB\n",
      "row:  BasementExposure \tmissing values: \t 30\n",
      "row:  BasementCondition \tmissing values: \t 29\n",
      "row:  BasementFacilityType1 \tmissing values: \t 29\n",
      "row:  BasementHeight \tmissing values: \t 29\n",
      "row:  BasementFacilityType2 \tmissing values: \t 29\n",
      "row:  FacadeArea \tmissing values: \t 7\n",
      "row:  ElectricalSystem \tmissing values: \t 1\n",
      "row:  UsableArea \tmissing values: \t 0\n",
      "row:  LowQualityArea \tmissing values: \t 0\n",
      "row:  KitchenQuality \tmissing values: \t 0\n",
      "row:  UpperFloorArea \tmissing values: \t 0\n",
      "row:  BasementFullBaths \tmissing values: \t 0\n",
      "row:  BasementHalfBaths \tmissing values: \t 0\n",
      "row:  FullBaths \tmissing values: \t 0\n",
      "row:  GroundFloorArea \tmissing values: \t 0\n",
      "row:  HalfBaths \tmissing values: \t 0\n",
      "row:  GuestRooms \tmissing values: \t 0\n",
      "row:  Kitchens \tmissing values: \t 0\n",
      "row:  Id \tmissing values: \t 0\n",
      "row:  CentralAC \tmissing values: \t 0\n",
      "row:  PropertyFunctionality \tmissing values: \t 0\n",
      "row:  DealCondition \tmissing values: \t 0\n",
      "row:  DealType \tmissing values: \t 0\n",
      "row:  YearSold \tmissing values: \t 0\n",
      "row:  MonthSold \tmissing values: \t 0\n",
      "row:  ExtraFacilityValue \tmissing values: \t 0\n",
      "row:  SwimmingPoolArea \tmissing values: \t 0\n",
      "row:  ScreenPorchArea \tmissing values: \t 0\n",
      "row:  SeasonalPorchArea \tmissing values: \t 0\n",
      "row:  EnclosedVerandaArea \tmissing values: \t 0\n",
      "row:  OpenVerandaArea \tmissing values: \t 0\n",
      "row:  TerraceArea \tmissing values: \t 0\n",
      "row:  DrivewayType \tmissing values: \t 0\n",
      "row:  ParkingArea \tmissing values: \t 0\n",
      "row:  ParkingCapacity \tmissing values: \t 0\n",
      "row:  Lounges \tmissing values: \t 0\n",
      "row:  TotalRooms \tmissing values: \t 0\n",
      "row:  BasementUnfinishedSF \tmissing values: \t 0\n",
      "row:  HeatingQuality \tmissing values: \t 0\n",
      "row:  OverallQuality \tmissing values: \t 0\n",
      "row:  ZoningCategory \tmissing values: \t 0\n",
      "row:  LandArea \tmissing values: \t 0\n",
      "row:  RoadType \tmissing values: \t 0\n",
      "row:  PlotShape \tmissing values: \t 0\n",
      "row:  LandElevation \tmissing values: \t 0\n",
      "row:  UtilityAccess \tmissing values: \t 0\n",
      "row:  PlotConfiguration \tmissing values: \t 0\n",
      "row:  LandSlope \tmissing values: \t 0\n",
      "row:  District \tmissing values: \t 0\n",
      "row:  NearbyTransport1 \tmissing values: \t 0\n",
      "row:  NearbyTransport2 \tmissing values: \t 0\n",
      "row:  PropertyType \tmissing values: \t 0\n",
      "row:  HotelStyle \tmissing values: \t 0\n",
      "row:  OverallCondition \tmissing values: \t 0\n",
      "row:  HeatingType \tmissing values: \t 0\n",
      "row:  ConstructionYear \tmissing values: \t 0\n",
      "row:  RenovationYear \tmissing values: \t 0\n",
      "row:  RoofDesign \tmissing values: \t 0\n",
      "row:  RoofMaterial \tmissing values: \t 0\n",
      "row:  ExteriorPrimary \tmissing values: \t 0\n",
      "row:  ExteriorSecondary \tmissing values: \t 0\n",
      "row:  ExteriorQuality \tmissing values: \t 0\n",
      "row:  ExteriorCondition \tmissing values: \t 0\n",
      "row:  FoundationType \tmissing values: \t 0\n",
      "row:  BasementFacilitySF1 \tmissing values: \t 0\n",
      "row:  BasementFacilitySF2 \tmissing values: \t 0\n",
      "row:  PropertyClass \tmissing values: \t 0\n",
      "row:  BasementTotalSF \tmissing values: \t 0\n",
      "row:  HotelValue \tmissing values: \t 0\n",
      "Columns to drop\n",
      "Index(['ServiceLaneType', 'FacadeType', 'LoungeQuality', 'PoolQuality',\n",
      "       'BoundaryFence', 'ExtraFacility'],\n",
      "      dtype='object')\n"
     ]
    }
   ],
   "source": [
    "train_df.shape\n",
    "train_df.info()\n",
    "null_value_percentages=(train_df.isna().sum()/train_df.shape[0])*100\n",
    "null_value_percentages\n",
    "rows_to_drop=null_value_percentages[null_value_percentages<5].sort_values(ascending=False)\n",
    "rows_to_drop\n",
    "rows_to_drop=rows_to_drop.keys()\n",
    "rows_to_drop\n",
    "for row in rows_to_drop:\n",
    "\tprint(\"row: \",row,\"\\tmissing values: \\t\",train_df[row].isna().sum())\n",
    "train_df.shape\n",
    "for row in rows_to_drop:\n",
    "    if(null_value_percentages[row]<6):\n",
    "        train_df.drop(labels=train_df.index[train_df[row].isna()],inplace=True)\n",
    "\n",
    "train_df.shape\n",
    "columns_to_drop=null_value_percentages[null_value_percentages>40]\n",
    "columns_to_drop=columns_to_drop.keys()\n",
    "\n",
    "print(\"Columns to drop\")\n",
    "print(columns_to_drop)\n",
    "train_df.drop(columns=columns_to_drop,inplace=True)\n",
    "test_df.drop(columns=columns_to_drop,inplace=True)\n",
    "\n",
    "train_df.shape\n",
    "train_df.drop_duplicates(inplace=True)"
   ]
  },
  {
   "cell_type": "code",
   "execution_count": 635,
   "metadata": {
    "execution": {
     "iopub.execute_input": "2025-10-25T06:53:17.160777Z",
     "iopub.status.busy": "2025-10-25T06:53:17.160202Z",
     "iopub.status.idle": "2025-10-25T06:53:17.169217Z",
     "shell.execute_reply": "2025-10-25T06:53:17.167963Z",
     "shell.execute_reply.started": "2025-10-25T06:53:17.160746Z"
    }
   },
   "outputs": [],
   "source": [
    "# train_df.replace({\n",
    "#     \"ParkingQuality\": {np.nan: \"NoParking\"},\n",
    "#     \"ParkingCondition\": {np.nan: \"NoParking\"}\n",
    "# }, inplace=True)"
   ]
  },
  {
   "cell_type": "code",
   "execution_count": 636,
   "metadata": {
    "execution": {
     "iopub.execute_input": "2025-10-25T06:53:17.171818Z",
     "iopub.status.busy": "2025-10-25T06:53:17.171416Z",
     "iopub.status.idle": "2025-10-25T06:53:17.200849Z",
     "shell.execute_reply": "2025-10-25T06:53:17.199286Z",
     "shell.execute_reply.started": "2025-10-25T06:53:17.171789Z"
    }
   },
   "outputs": [],
   "source": [
    "# test_df.replace({\n",
    "#     \"ParkingQuality\": {np.nan: \"NoParking\"},\n",
    "#     \"ParkingCondition\": {np.nan: \"NoParking\"}\n",
    "# }, inplace=True)"
   ]
  },
  {
   "cell_type": "code",
   "execution_count": 637,
   "metadata": {
    "execution": {
     "iopub.execute_input": "2025-10-25T06:53:17.203505Z",
     "iopub.status.busy": "2025-10-25T06:53:17.203009Z",
     "iopub.status.idle": "2025-10-25T06:53:17.245242Z",
     "shell.execute_reply": "2025-10-25T06:53:17.243575Z",
     "shell.execute_reply.started": "2025-10-25T06:53:17.203465Z"
    }
   },
   "outputs": [
    {
     "name": "stdout",
     "output_type": "stream",
     "text": [
      "Original maximum value: 745000.0\n",
      "Maximum value after capping: 618227.2130000071\n"
     ]
    }
   ],
   "source": [
    "import matplotlib.pyplot as plt\n",
    "# plt.hist(train_df['HotelValue'], bins=50)\n",
    "percentile_threshold = train_df['HotelValue'].quantile(0.999)\n",
    "print(\"Original maximum value:\", train_df['HotelValue'].max())\n",
    "# Cap the values at the 99.9th percentile\n",
    "train_df['HotelValue'] = train_df['HotelValue'].clip(upper=percentile_threshold)\n",
    "print(\"Maximum value after capping:\", train_df['HotelValue'].max())"
   ]
  },
  {
   "cell_type": "code",
   "execution_count": 638,
   "metadata": {
    "execution": {
     "iopub.execute_input": "2025-10-25T06:53:17.247233Z",
     "iopub.status.busy": "2025-10-25T06:53:17.246855Z",
     "iopub.status.idle": "2025-10-25T06:53:17.289066Z",
     "shell.execute_reply": "2025-10-25T06:53:17.287942Z",
     "shell.execute_reply.started": "2025-10-25T06:53:17.247202Z"
    }
   },
   "outputs": [
    {
     "name": "stdout",
     "output_type": "stream",
     "text": [
      "                         missing_percent    dtype\n",
      "RoadAccessLength               18.588640  float64\n",
      "ParkingConstructionYear         4.991394  float64\n"
     ]
    }
   ],
   "source": [
    "missing_summary = (\n",
    "    train_df.isnull().sum() / len(train_df) * 100\n",
    ").sort_values(ascending=False).to_frame(\"missing_percent\")\n",
    "\n",
    "# Add dtypes for reference\n",
    "missing_summary[\"dtype\"] = train_df.dtypes\n",
    "\n",
    "# Focus only on numeric columns with some missingness\n",
    "numeric_missing = missing_summary[\n",
    "    (missing_summary[\"missing_percent\"] > 0) &\n",
    "    ((missing_summary[\"dtype\"]==\"float64\") |\n",
    "    (missing_summary[\"dtype\"]==\"int64\"))\n",
    "]\n",
    "\n",
    "print(numeric_missing)\n",
    "\n",
    "'''There are three features with missing values for numeric values.\n",
    "The first is RoadAccessLength which is the length of road access available to the property. It could be that some properties do not have road\n",
    "access at all, in which case we should fill 0 in all these columns, however we see that the column \"RoadType\" has no null values, which means \n",
    "every property has some road leading up to it. So the values are missing randomly, and not due to there being no road available. The missing\n",
    "percentage is not very high (18.58%) so we can impute the values using median.'''\n",
    "\n",
    "road_access_median = train_df[\"RoadAccessLength\"].median()\n",
    "train_df[\"RoadAccessLength\"] = train_df[\"RoadAccessLength\"].fillna(road_access_median)\n",
    "test_df[\"RoadAccessLength\"] = test_df[\"RoadAccessLength\"].fillna(road_access_median)\n",
    "\n",
    "'''FacadeArea only missing for rows with FacadeType null, we can impute 0 here as they probably have no facade.'''\n",
    "train_df[\"FacadeArea\"] = train_df[\"FacadeArea\"].fillna(0)\n",
    "test_df[\"FacadeArea\"] = test_df[\"FacadeArea\"].fillna(0)\n",
    "\n",
    "'''ParkingConstructionYear imputed with median with ConstructionYear as there seems to be high correlation'''\n",
    "train_df['ParkingConstructionYear'] = train_df['ParkingConstructionYear'].fillna(train_df['ConstructionYear'])\n",
    "test_df['ParkingConstructionYear'] = test_df['ParkingConstructionYear'].fillna(test_df['ConstructionYear'])\n"
   ]
  },
  {
   "cell_type": "code",
   "execution_count": 639,
   "metadata": {
    "execution": {
     "iopub.execute_input": "2025-10-25T06:53:17.290648Z",
     "iopub.status.busy": "2025-10-25T06:53:17.290284Z",
     "iopub.status.idle": "2025-10-25T06:53:17.317467Z",
     "shell.execute_reply": "2025-10-25T06:53:17.316293Z",
     "shell.execute_reply.started": "2025-10-25T06:53:17.290616Z"
    }
   },
   "outputs": [],
   "source": [
    "# import math\n",
    "# numeric_cols = train_df.select_dtypes(include=[np.number]).columns\n",
    "# numeric_cols = numeric_cols.drop('HotelValue')\n",
    "\n",
    "# nunique_threshold = 15\n",
    "# discrete_numeric_cols = []\n",
    "# for col in numeric_cols:\n",
    "#     if train_df[col].nunique() < nunique_threshold and col != 'HotelValue':\n",
    "#         discrete_numeric_cols.append(col)\n",
    "\n",
    "# print(f\"Found {len(discrete_numeric_cols)} discrete numeric columns:\")\n",
    "# continuous_numeric_cols = [\n",
    "#     col for col in numeric_cols \n",
    "#     if train_df[col].nunique() >= nunique_threshold\n",
    "# ]\n",
    "\n",
    "# # Dynamically determine the grid size for the subplots\n",
    "# n_cols = len(continuous_numeric_cols)\n",
    "# n_rows = math.ceil(n_cols / 3) # Creates a grid with 3 columns\n",
    "\n",
    "# fig, axes = plt.subplots(n_rows, 3, figsize=(15, 5 * n_rows))\n",
    "# axes = axes.flatten() # Flatten the 2D array of axes for easy iteration\n",
    "\n",
    "# for idx, feature in enumerate(continuous_numeric_cols):\n",
    "#  axes[idx].scatter(train_df[feature], train_df['HotelValue'], alpha=0.5)\n",
    "#  axes[idx].set_xlabel(feature)\n",
    "#  axes[idx].set_ylabel('HotelValue')\n",
    "#  axes[idx].set_title(f'{feature} vs HotelValue')\n",
    "\n",
    "# # Hide any unused subplots\n",
    "# for i in range(n_cols, len(axes)):\n",
    "#  fig.delaxes(axes[i])\n",
    "\n",
    "# plt.tight_layout()\n",
    "# plt.show()"
   ]
  },
  {
   "cell_type": "code",
   "execution_count": 640,
   "metadata": {
    "execution": {
     "iopub.execute_input": "2025-10-25T06:53:17.319151Z",
     "iopub.status.busy": "2025-10-25T06:53:17.318785Z",
     "iopub.status.idle": "2025-10-25T06:53:17.373996Z",
     "shell.execute_reply": "2025-10-25T06:53:17.372892Z",
     "shell.execute_reply.started": "2025-10-25T06:53:17.319124Z"
    }
   },
   "outputs": [
    {
     "name": "stdout",
     "output_type": "stream",
     "text": [
      "(1162, 70)\n",
      "(260, 69)\n"
     ]
    }
   ],
   "source": [
    "# '''Adding binary indicators for whether certain features exist for a house or not as there are a lot of facilities like terrace, parking\n",
    "# etc. which do not exist for quite a few houses.'''\n",
    "# # List all features with this pattern\n",
    "# area_features = ['EnclosedVerandaArea', 'SeasonalPorchArea', 'ScreenPorchArea', \n",
    "#                  'TerraceArea', 'BasementTotalSF', \n",
    "#                  'ParkingArea', 'OpenVerandaArea', 'FacadeArea', 'BasementFacilitySF1', 'BasementFacilitySF2', \n",
    "#                  'BasementUnfinishedSF', 'UpperFloorArea', 'LowQualityArea', 'SwimmingPoolArea', 'ExtraFacilityValue']\n",
    "\n",
    "# for feature in area_features:\n",
    "#     train_df[f'Has{feature.replace(\"Area\", \"\").replace(\"SF\", \"\")}'] = (train_df[feature] > 0).astype(int)\n",
    "#     test_df[f'Has{feature.replace(\"Area\", \"\").replace(\"SF\", \"\")}'] = (test_df[feature] > 0).astype(int)\n",
    "\n",
    "#SwimmingPoolArea and ExtraFacilityValue show hardly any correlation to the target variable even for houses that do have those facilities.\n",
    "#Thus, these can be dropped.\n",
    "\n",
    "train_df = train_df.drop(columns=['LowQualityArea', 'SeasonalPorchArea', 'ScreenPorchArea', 'SwimmingPoolArea', 'ExtraFacilityValue'])\n",
    "test_df = test_df.drop(columns=['LowQualityArea', 'SeasonalPorchArea', 'ScreenPorchArea', 'SwimmingPoolArea', 'ExtraFacilityValue'])\n",
    "print(train_df.shape)\n",
    "print(test_df.shape)"
   ]
  },
  {
   "cell_type": "code",
   "execution_count": 641,
   "metadata": {
    "execution": {
     "iopub.execute_input": "2025-10-25T06:53:17.375182Z",
     "iopub.status.busy": "2025-10-25T06:53:17.374874Z",
     "iopub.status.idle": "2025-10-25T06:53:17.410175Z",
     "shell.execute_reply": "2025-10-25T06:53:17.407924Z",
     "shell.execute_reply.started": "2025-10-25T06:53:17.375161Z"
    }
   },
   "outputs": [],
   "source": [
    "# import seaborn as sns\n",
    "# discrete_numeric_cols.remove('SwimmingPoolArea')\n",
    "# n_features = len(discrete_numeric_cols)\n",
    "# n_cols = 2\n",
    "# n_rows = math.ceil(n_features / n_cols)\n",
    "\n",
    "# # Create the figure and axes\n",
    "# fig, axes = plt.subplots(n_rows, n_cols, figsize=(8 * n_cols, 6 * n_rows))\n",
    "# axes = axes.flatten() # Flatten the 2D array of axes for easy iteration\n",
    "\n",
    "# # Loop through the identified columns and create a boxplot for each\n",
    "# for idx, feature in enumerate(discrete_numeric_cols):\n",
    "#     sns.boxplot(x=feature, y='HotelValue', data=train_df, ax=axes[idx])\n",
    "#     axes[idx].set_title(f'HotelValue vs {feature}', fontsize=14)\n",
    "#     axes[idx].set_xlabel(feature, fontsize=12)\n",
    "#     axes[idx].set_ylabel('HotelValue', fontsize=12)\n",
    "\n",
    "# # Hide any unused subplots\n",
    "# for i in range(n_features, len(axes)):\n",
    "#     fig.delaxes(axes[i])\n",
    "\n",
    "# # Adjust layout to prevent overlap and display the plots\n",
    "# plt.tight_layout()\n",
    "# plt.show()"
   ]
  },
  {
   "cell_type": "code",
   "execution_count": 642,
   "metadata": {
    "execution": {
     "iopub.execute_input": "2025-10-25T06:53:17.414594Z",
     "iopub.status.busy": "2025-10-25T06:53:17.414096Z",
     "iopub.status.idle": "2025-10-25T06:53:17.453968Z",
     "shell.execute_reply": "2025-10-25T06:53:17.452752Z",
     "shell.execute_reply.started": "2025-10-25T06:53:17.414566Z"
    }
   },
   "outputs": [
    {
     "name": "stdout",
     "output_type": "stream",
     "text": [
      "(1162, 67)\n",
      "(260, 66)\n"
     ]
    }
   ],
   "source": [
    "#We will drop features which show very little variation across categories as these are unlikely to be string predictors of the target variable.\n",
    "train_df = train_df.drop(columns=['MonthSold', 'BasementHalfBaths', 'YearSold'])\n",
    "test_df = test_df.drop(columns=['MonthSold', 'BasementHalfBaths', 'YearSold'])\n",
    "\n",
    "print(train_df.shape)\n",
    "print(test_df.shape)"
   ]
  },
  {
   "cell_type": "code",
   "execution_count": 643,
   "metadata": {
    "execution": {
     "iopub.execute_input": "2025-10-25T06:53:17.455194Z",
     "iopub.status.busy": "2025-10-25T06:53:17.454928Z",
     "iopub.status.idle": "2025-10-25T06:53:17.493242Z",
     "shell.execute_reply": "2025-10-25T06:53:17.492092Z",
     "shell.execute_reply.started": "2025-10-25T06:53:17.455174Z"
    }
   },
   "outputs": [
    {
     "name": "stdout",
     "output_type": "stream",
     "text": [
      "                  missing_percent   dtype\n",
      "ParkingFinish            4.991394  object\n",
      "ParkingType              4.991394  object\n",
      "ParkingQuality           4.991394  object\n",
      "ParkingCondition         4.991394  object\n",
      "ParkingType         58\n",
      "ParkingFinish       58\n",
      "ParkingQuality      58\n",
      "ParkingCondition    58\n",
      "dtype: int64\n",
      "BasementHeight            8\n",
      "BasementCondition         8\n",
      "BasementExposure          8\n",
      "BasementFacilityType1     8\n",
      "BasementFacilityType2     9\n",
      "ParkingType              16\n",
      "ParkingFinish            16\n",
      "ParkingQuality           16\n",
      "ParkingCondition         16\n",
      "dtype: int64\n"
     ]
    }
   ],
   "source": [
    "categorical_missing = missing_summary[\n",
    "    (missing_summary[\"missing_percent\"] > 0) &\n",
    "    (missing_summary[\"dtype\"]==\"object\")    \n",
    "]\n",
    "\n",
    "print(categorical_missing)\n",
    "\n",
    "\n",
    "missing_counts = train_df.isnull().sum()\n",
    "print(missing_counts[missing_counts > 0]) \n",
    "\n",
    "missing_counts_test = test_df.isnull().sum()\n",
    "print(missing_counts_test[missing_counts_test > 0]) "
   ]
  },
  {
   "cell_type": "code",
   "execution_count": 644,
   "metadata": {
    "execution": {
     "iopub.execute_input": "2025-10-25T06:53:17.495131Z",
     "iopub.status.busy": "2025-10-25T06:53:17.494619Z",
     "iopub.status.idle": "2025-10-25T06:53:17.522189Z",
     "shell.execute_reply": "2025-10-25T06:53:17.520729Z",
     "shell.execute_reply.started": "2025-10-25T06:53:17.495044Z"
    }
   },
   "outputs": [],
   "source": [
    "# categorical_cols = train_df.select_dtypes(include=['object']).columns\n",
    "\n",
    "# print(f\"Found {len(categorical_cols)} columns with 'object' data type:\")\n",
    "# target_variable = 'HotelValue'\n",
    "\n",
    "# # Determine the grid size for the subplots (arranging them in 2 columns)\n",
    "# n_features = len(categorical_cols)\n",
    "# n_cols = 2\n",
    "# n_rows = math.ceil(n_features / n_cols)\n",
    "\n",
    "# # Create the figure and axes\n",
    "# fig, axes = plt.subplots(n_rows, n_cols, figsize=(8 * n_cols, 6 * n_rows))\n",
    "# axes = axes.flatten() # Flatten the 2D array of axes for easy iteration\n",
    "\n",
    "# # Loop through the identified columns and create a boxplot for each\n",
    "# for idx, feature in enumerate(categorical_cols):\n",
    "#     # It's good practice to sort the categories for a cleaner plot, e.g., by median value\n",
    "#     # This is optional but makes the plot easier to interpret\n",
    "#     sorted_order = train_df.groupby(feature)[target_variable].median().sort_values().index\n",
    "    \n",
    "#     sns.boxplot(x=feature, y=target_variable, data=train_df, ax=axes[idx], order=sorted_order)\n",
    "    \n",
    "#     axes[idx].set_title(f'{target_variable} vs {feature}', fontsize=14)\n",
    "#     axes[idx].set_xlabel(feature, fontsize=12)\n",
    "#     axes[idx].set_ylabel(target_variable, fontsize=12)\n",
    "    \n",
    "#     # Optional: Rotate x-axis labels if they are long and overlap\n",
    "#     axes[idx].tick_params(axis='x', rotation=45)\n",
    "\n",
    "# # Hide any unused subplots\n",
    "# for i in range(n_features, len(axes)):\n",
    "#     fig.delaxes(axes[i])\n",
    "\n",
    "# # Adjust layout to prevent overlap and display the plots\n",
    "# plt.tight_layout()\n",
    "# plt.show()"
   ]
  },
  {
   "cell_type": "code",
   "execution_count": 645,
   "metadata": {
    "execution": {
     "iopub.execute_input": "2025-10-25T06:53:17.525189Z",
     "iopub.status.busy": "2025-10-25T06:53:17.524761Z",
     "iopub.status.idle": "2025-10-25T06:53:17.561416Z",
     "shell.execute_reply": "2025-10-25T06:53:17.560069Z",
     "shell.execute_reply.started": "2025-10-25T06:53:17.525162Z"
    }
   },
   "outputs": [
    {
     "name": "stdout",
     "output_type": "stream",
     "text": [
      "(1162, 65)\n",
      "(260, 64)\n"
     ]
    }
   ],
   "source": [
    "#We will drop columns with very little variance across categories\n",
    "train_df = train_df.drop(columns=['UtilityAccess', 'RoadType'])\n",
    "test_df = test_df.drop(columns=['UtilityAccess', 'RoadType'])\n",
    "\n",
    "print(train_df.shape)\n",
    "print(test_df.shape)"
   ]
  },
  {
   "cell_type": "code",
   "execution_count": 646,
   "metadata": {
    "execution": {
     "iopub.execute_input": "2025-10-25T06:53:17.563221Z",
     "iopub.status.busy": "2025-10-25T06:53:17.562918Z",
     "iopub.status.idle": "2025-10-25T06:53:17.593419Z",
     "shell.execute_reply": "2025-10-25T06:53:17.592558Z",
     "shell.execute_reply.started": "2025-10-25T06:53:17.563190Z"
    }
   },
   "outputs": [
    {
     "name": "stdout",
     "output_type": "stream",
     "text": [
      "Negative values per column:\n",
      " Series([], dtype: int64)\n",
      "Infinite values per column:\n",
      " Series([], dtype: int64)\n",
      "(1162, 64)\n",
      "(260, 63)\n"
     ]
    }
   ],
   "source": [
    "numeric_cols = train_df.select_dtypes(include=[np.number]).columns\n",
    "negative_values = (train_df[numeric_cols] < 0).sum()\n",
    "print(\"Negative values per column:\\n\", negative_values[negative_values > 0])\n",
    "\n",
    "# Check for infinite values\n",
    "infinite_values = np.isinf(train_df[numeric_cols]).sum()\n",
    "print(\"Infinite values per column:\\n\", infinite_values[infinite_values > 0])\n",
    "\n",
    "# # Visualize\n",
    "# plt.figure(figsize=(20, 16))\n",
    "# sns.heatmap(corr_matrix, annot=False, cmap='coolwarm', center=0)\n",
    "# plt.title('Correlation Matrix')\n",
    "# plt.show()\n",
    "\n",
    "# # Find high correlations (excluding diagonal)\n",
    "# high_corr = []\n",
    "# for i in range(len(corr_matrix.columns)):\n",
    "#     for j in range(i+1, len(corr_matrix.columns)):\n",
    "#         if abs(corr_matrix.iloc[i, j]) > 0.75:  # threshold\n",
    "#             high_corr.append({\n",
    "#                 'Feature1': corr_matrix.columns[i],\n",
    "#                 'Feature2': corr_matrix.columns[j],\n",
    "#                 'Correlation': corr_matrix.iloc[i, j]\n",
    "#             })\n",
    "\n",
    "# print(\"Highly correlated pairs (>0.75):\")\n",
    "# for pair in high_corr:\n",
    "#     print(f\"{pair['Feature1']} <-> {pair['Feature2']}: {pair['Correlation']:.3f}\")\n",
    "\n",
    "train_df=train_df.drop(columns=['ParkingConstructionYear'])\n",
    "test_df=test_df.drop(columns=['ParkingConstructionYear'])\n",
    "print(train_df.shape)\n",
    "print(test_df.shape)"
   ]
  },
  {
   "cell_type": "code",
   "execution_count": 648,
   "metadata": {
    "execution": {
     "iopub.execute_input": "2025-10-25T06:53:17.858184Z",
     "iopub.status.busy": "2025-10-25T06:53:17.857845Z",
     "iopub.status.idle": "2025-10-25T06:53:17.876630Z",
     "shell.execute_reply": "2025-10-25T06:53:17.874758Z",
     "shell.execute_reply.started": "2025-10-25T06:53:17.858162Z"
    }
   },
   "outputs": [
    {
     "name": "stdout",
     "output_type": "stream",
     "text": [
      "(1162, 156)\n",
      "(1162,)\n",
      "(260, 156)\n"
     ]
    },
    {
     "data": {
      "text/plain": [
       "Series([], dtype: float64)"
      ]
     },
     "execution_count": 648,
     "metadata": {},
     "output_type": "execute_result"
    }
   ],
   "source": [
    "X = train_encoded.drop(columns=['HotelValue','Id'])\n",
    "test_ids = test_encoded['Id'].copy()\n",
    "y = train_encoded['HotelValue']\n",
    "X_test = test_encoded.drop(columns=['Id'])\n",
    "print(X.shape)\n",
    "print(y.shape)\n",
    "print(X_test.shape)\n",
    "\n",
    "\n",
    "null_value_percentages=(test_encoded.isna().sum()/test_encoded.shape[0])*100\n",
    "null_value_percentages=null_value_percentages[null_value_percentages>0]\n",
    "null_value_percentages"
   ]
  },
  {
   "cell_type": "code",
   "execution_count": 649,
   "metadata": {
    "execution": {
     "iopub.execute_input": "2025-10-25T06:53:17.878691Z",
     "iopub.status.busy": "2025-10-25T06:53:17.878292Z",
     "iopub.status.idle": "2025-10-25T06:53:18.015886Z",
     "shell.execute_reply": "2025-10-25T06:53:18.013987Z",
     "shell.execute_reply.started": "2025-10-25T06:53:17.878638Z"
    }
   },
   "outputs": [
    {
     "name": "stdout",
     "output_type": "stream",
     "text": [
      "Categorical encoding complete with 0 columns\n",
      "\n",
      "=== Training Linear Regression ===\n",
      "\n",
      "Test Predictions:\n",
      "Sample: [ 9561.9663817  23117.33726856  7172.03825535 10587.95190572\n",
      " 20741.43211   ]\n",
      "Min: $2915.19\n",
      "Max: $725360.27\n",
      "Mean: $17551.12\n",
      "\n",
      " Submission saved as 'submission.csv'\n",
      "     Id    HotelValue\n",
      "0   893   9561.966382\n",
      "1  1106  23117.337269\n",
      "2   414   7172.038255\n",
      "3   523  10587.951906\n",
      "4  1037  20741.432110\n",
      "5   615   5879.415835\n",
      "6   219  14995.095928\n",
      "7  1161   8829.874775\n",
      "8   650   5518.315622\n",
      "9   888   8809.158220\n"
     ]
    }
   ],
   "source": [
    "from sklearn.model_selection import train_test_split\n",
    "from sklearn.preprocessing import StandardScaler, LabelEncoder\n",
    "from sklearn.linear_model import LinearRegression\n",
    "from sklearn.metrics import mean_squared_error, r2_score\n",
    "\n",
    "# Prepare data\n",
    "X = train_encoded.drop(['HotelValue', 'Id'], axis=1)\n",
    "y = train_encoded['HotelValue']\n",
    "X_test = test_encoded.drop(columns=['Id'])\n",
    "\n",
    "# Apply log transformation to target\n",
    "y = np.log1p(y)\n",
    "\n",
    "# Handle categorical variables - FIX for unseen categories\n",
    "categorical_columns = X.select_dtypes(include=['object']).columns\n",
    "\n",
    "# Combine train and test to fit encoder on all categories\n",
    "for col in categorical_columns:\n",
    "    le = LabelEncoder()\n",
    "    \n",
    "    # Fit on combined data to see all categories\n",
    "    combined = pd.concat([X[col], X_test[col]], axis=0).astype(str)\n",
    "    le.fit(combined)\n",
    "    \n",
    "    # Transform both datasets\n",
    "    X[col] = le.transform(X[col].astype(str))\n",
    "    X_test[col] = le.transform(X_test[col].astype(str))\n",
    "\n",
    "print(f\"Categorical encoding complete with {len(categorical_columns)} columns\")\n",
    "\n",
    "# Train linear regression (without scaling)\n",
    "print(\"\\n=== Training Linear Regression ===\")\n",
    "lr_model = LinearRegression()\n",
    "lr_model.fit(X, y)\n",
    "\n",
    "\n",
    "# Make test predictions\n",
    "y_test_pred = lr_model.predict(X_test)\n",
    "y_test_pred_actual = np.expm1(y_test_pred)\n",
    "\n",
    "print(f\"\\nTest Predictions:\")\n",
    "print(f\"Sample: {y_test_pred_actual[:5]}\")\n",
    "print(f\"Min: ${y_test_pred_actual.min():.2f}\")\n",
    "print(f\"Max: ${y_test_pred_actual.max():.2f}\")\n",
    "print(f\"Mean: ${y_test_pred_actual.mean():.2f}\")\n",
    "\n",
    "# Create submission\n",
    "submission = pd.DataFrame({\n",
    "    'Id': test_ids,\n",
    "    'HotelValue': y_test_pred_actual\n",
    "})\n",
    "\n",
    "submission.to_csv('submission_linear_regression.csv', index=False)\n",
    "print(\"\\n Submission saved as 'submission.csv'\")\n",
    "print(submission.head(10))"
   ]
  },
  {
   "cell_type": "code",
   "execution_count": null,
   "metadata": {},
   "outputs": [],
   "source": []
  },
  {
   "cell_type": "code",
   "execution_count": null,
   "id": "ee7c2711",
   "metadata": {},
   "outputs": [],
   "source": [
    "# Ordinal Encoding for quality-related columns\n",
    "ordinal_cols = ['ExteriorQuality', 'ExteriorCondition', 'HeatingQuality', 'KitchenQuality']\n",
    "\n",
    "# Define ordinal mappings\n",
    "ordinal_mappings = {\n",
    "    'Ex': 5,  # Excellent\n",
    "    'Gd': 4,  # Good\n",
    "    'TA': 3,  # Typical/Average\n",
    "    'Av': 3,  # Some datasets use 'Av' instead of 'TA'\n",
    "    'Fa': 2,  # Fair\n",
    "    'Mn': 2,  # Sometimes used instead of 'Fa'\n",
    "    'Po': 1,  # Poor\n",
    "    'No': 0,  # None\n",
    "    'None': 0\n",
    "}\n",
    "\n",
    "def encode_ordinal(train_df, test_df, ordinal_cols, mapping):\n",
    "    train_encoded = train_df.copy()\n",
    "    test_encoded = test_df.copy()\n",
    "\n",
    "    for col in ordinal_cols:\n",
    "        if col in train_encoded.columns:\n",
    "            train_encoded[col] = train_encoded[col].map(mapping).fillna(0).astype(int)\n",
    "        if col in test_encoded.columns:\n",
    "            test_encoded[col] = test_encoded[col].map(mapping).fillna(0).astype(int)\n",
    "\n",
    "    return train_encoded, test_encoded\n",
    "\n",
    "# Apply encoding\n",
    "train_df, test_df = encode_ordinal(train_df, test_df, ordinal_cols, ordinal_mappings)\n"
   ]
  }
 ],
 "metadata": {
  "kaggle": {
   "accelerator": "none",
   "dataSources": [
    {
     "databundleVersionId": 13910868,
     "sourceId": 116111,
     "sourceType": "competition"
    }
   ],
   "dockerImageVersionId": 31153,
   "isGpuEnabled": false,
   "isInternetEnabled": true,
   "language": "python",
   "sourceType": "notebook"
  },
  "kernelspec": {
   "display_name": "Python 3 (ipykernel)",
   "language": "python",
   "name": "python3"
  },
  "language_info": {
   "codemirror_mode": {
    "name": "ipython",
    "version": 3
   },
   "file_extension": ".py",
   "mimetype": "text/x-python",
   "name": "python",
   "nbconvert_exporter": "python",
   "pygments_lexer": "ipython3",
   "version": "3.12.3"
  }
 },
 "nbformat": 4,
 "nbformat_minor": 4
}
